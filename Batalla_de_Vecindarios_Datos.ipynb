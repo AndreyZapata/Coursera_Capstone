{
 "cells": [
  {
   "cell_type": "markdown",
   "metadata": {},
   "source": [
    "<h1 align=center><font size = 5>Proyecto Final Capstone - La Batalla de los Vecindarios</font></h1>"
   ]
  },
  {
   "cell_type": "markdown",
   "metadata": {},
   "source": [
    "<h2>Tabla Contenido</h2>\n",
    "\n",
    "<div class=\"alert alert-block alert-info\" style=\"margin-top: 20px\">\n",
    "<ol>\n",
    "    <li><a href=\"#introduccion\">Introducción</a></li>\n",
    "    <li><a href=\"#problema\">Problema Comercial</a></li>\n",
    "    <li><a href=\"#datos\">Datos</a></li>\n",
    "</ol>\n",
    "    \n",
    "</div>\n",
    " \n",
    "<hr>"
   ]
  },
  {
   "cell_type": "markdown",
   "metadata": {},
   "source": [
    "<h2 id=\"introduccion\">1. Introducción</h2>"
   ]
  },
  {
   "cell_type": "markdown",
   "metadata": {},
   "source": [
    "Para este proyecto nos centraremos en analizar y visualizar, los barrios de la ciudad de **Medellin-Colombia**, para determinar cual lugar es mejor para abrir una **pizzeria**."
   ]
  },
  {
   "cell_type": "markdown",
   "metadata": {},
   "source": [
    "<h2 id=\"problema\">2. Problema Comercial</h2>"
   ]
  },
  {
   "cell_type": "markdown",
   "metadata": {},
   "source": [
    "Un amigo cercano desea abrir un local de comida, especificamente una pizzeria, pero no tiene idea de en que lugar seria mas propicio abrir este local, en este emprendimiento tiene puesto sus esfuerzos y ahorros, es de vital importancia escoger bien el lugar donde estará la pizzeria.\n",
    "Con la ayuda de la ciencia de datos, podemos darle un panomara claro, de donde es factible abrir la pizzeria y donde no lo es."
   ]
  },
  {
   "cell_type": "markdown",
   "metadata": {},
   "source": [
    "<h2 id=\"datos\">3. Datos</h2>"
   ]
  },
  {
   "cell_type": "markdown",
   "metadata": {},
   "source": [
    "                    "
   ]
  },
  {
   "cell_type": "markdown",
   "metadata": {},
   "source": [
    "<h3 id=\"datos\">3.1. Fuentes de Datos</h3>"
   ]
  },
  {
   "cell_type": "markdown",
   "metadata": {},
   "source": [
    "Los datos que vamos a utilizar, provienen de varias fuentes, una de ella es la base de datos proporcionada por la alcaldia de **Medellin**, donde se encuentran todos los barrios de medellin, la comuna a la que pertenecen, (parecido a los distritos en otras ciudades) y si son urbanos o rurales. Estos datos pueden ser consultados en este enlace: <a href=\"https://geomedellin-m-medellin.opendata.arcgis.com/datasets/M-Medellin::barrio-vereda/explore?location=6.268900%2C-75.595550%2C12.00&showTable=true\">FuenteDatos<a/>."
   ]
  },
  {
   "cell_type": "markdown",
   "metadata": {},
   "source": [
    "<p>Tenemos la opción de hacer web scraping, con el paquete <b>BeautifulSoup</b>, que utilizamos en los laboratorios anteriores, o tambien podemos descargar el archivo en formato <b>.csv</b>, directamente desde la pagina de la alcaldia de Medellin. y cargarlo a nuestro Notebook, con Pandas.\n",
    "Escogeremos esta opción por simplicidad.</p>\n",
    "<p>Utilizaremos la libreria <b>GeoPy</b>, para recuperar los datos Geoespaciales de cada uno de los barrios de la ciudad y los combinaremos en una sola tabla.</p>\n",
    "<p>Ademas utilizaremos los datos de la Api <b>FourSquare</b>, para recuperar lugares y calificaciones, de los negocios similares, para los que deseamos predecir las mejores ubicaciones.</p>"
   ]
  },
  {
   "cell_type": "markdown",
   "metadata": {},
   "source": [
    "<h3 id=\"datos\">3.2. Data Cleaning</h3>"
   ]
  },
  {
   "cell_type": "markdown",
   "metadata": {},
   "source": [
    "Como los Datos provienen de varias fuentes es posible, que halla datos faltantes o nulos, decidí eliminar estos datos de nuestro DataFrame principal, al igual que solo trabajaremos con los barrios que sean catalogados como **Urbanos**, y eliminaremos los que aparecen como rurales."
   ]
  }
 ],
 "metadata": {
  "kernelspec": {
   "display_name": "Python 3",
   "language": "python",
   "name": "python3"
  },
  "language_info": {
   "codemirror_mode": {
    "name": "ipython",
    "version": 3
   },
   "file_extension": ".py",
   "mimetype": "text/x-python",
   "name": "python",
   "nbconvert_exporter": "python",
   "pygments_lexer": "ipython3",
   "version": "3.8.5"
  }
 },
 "nbformat": 4,
 "nbformat_minor": 4
}
